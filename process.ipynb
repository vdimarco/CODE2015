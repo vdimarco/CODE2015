{
 "metadata": {
  "name": "",
  "signature": "sha256:9866561ba841f8975e8ab9d859d27bb32a85952d77daeeadf1d0c6d7d7a44a89"
 },
 "nbformat": 3,
 "nbformat_minor": 0,
 "worksheets": [
  {
   "cells": [
    {
     "cell_type": "code",
     "collapsed": false,
     "input": [
      "import pandas as pd\n",
      "import json\n",
      "%pylab inline"
     ],
     "language": "python",
     "metadata": {},
     "outputs": [
      {
       "output_type": "stream",
       "stream": "stdout",
       "text": [
        "Populating the interactive namespace from numpy and matplotlib\n"
       ]
      }
     ],
     "prompt_number": 105
    },
    {
     "cell_type": "code",
     "collapsed": false,
     "input": [
      "df = pd.read_csv(\"data/relocator/rent_by_city-cleaned.csv\", encoding=\"iso-8859-1\")\n",
      "df.head()"
     ],
     "language": "python",
     "metadata": {},
     "outputs": [],
       "metadata": {},
       "output_type": "pyout",
       "prompt_number": 106,
       "text": []
      }
     ],
     "prompt_number": 106
    },
    {
     "cell_type": "code",
     "collapsed": false,
     "input": [
      "df1 = df[df.columns[:4]]\n",
      "df2 = df[df.columns[4:]]\n",
      "df2.head()"
     ],
     "language": "python",
     "metadata": {},
     "outputs": [
      {
       "html": [
        "<div style=\"max-height:1000px;max-width:1500px;overflow:auto;\">\n",
        "<table border=\"1\" class=\"dataframe\">\n",
        "  <thead>\n",
        "    <tr style=\"text-align: right;\">\n",
        "      <th></th>\n",
        "      <th>Value</th>\n",
        "      <th>Year</th>\n",
        "      <th>Geographical classification</th>\n",
        "      <th>UNIT</th>\n",
        "    </tr>\n",
        "  </thead>\n",
        "  <tbody>\n",
        "    <tr>\n",
        "      <th>0</th>\n",
        "      <td>-1</td>\n",
        "      <td> 1987</td>\n",
        "      <td> 10005</td>\n",
        "      <td> Bachelor units</td>\n",
        "    </tr>\n",
        "    <tr>\n",
        "      <th>1</th>\n",
        "      <td>-1</td>\n",
        "      <td> 1988</td>\n",
        "      <td> 10005</td>\n",
        "      <td> Bachelor units</td>\n",
        "    </tr>\n",
        "    <tr>\n",
        "      <th>2</th>\n",
        "      <td>-1</td>\n",
        "      <td> 1989</td>\n",
        "      <td> 10005</td>\n",
        "      <td> Bachelor units</td>\n",
        "    </tr>\n",
        "    <tr>\n",
        "      <th>3</th>\n",
        "      <td>-1</td>\n",
        "      <td> 1990</td>\n",
        "      <td> 10005</td>\n",
        "      <td> Bachelor units</td>\n",
        "    </tr>\n",
        "    <tr>\n",
        "      <th>4</th>\n",
        "      <td>-1</td>\n",
        "      <td> 1991</td>\n",
        "      <td> 10005</td>\n",
        "      <td> Bachelor units</td>\n",
        "    </tr>\n",
        "  </tbody>\n",
        "</table>\n",
        "</div>"
       ],
       "metadata": {},
       "output_type": "pyout",
       "prompt_number": 112,
       "text": [
        "   Value  Year Geographical classification            UNIT\n",
        "0     -1  1987                       10005  Bachelor units\n",
        "1     -1  1988                       10005  Bachelor units\n",
        "2     -1  1989                       10005  Bachelor units\n",
        "3     -1  1990                       10005  Bachelor units\n",
        "4     -1  1991                       10005  Bachelor units"
       ]
      }
     ],
     "prompt_number": 112
    },
    {
     "cell_type": "code",
     "collapsed": false,
     "input": [
      "j = df2.T.to_json(\"rents.json\")"
     ],
     "language": "python",
     "metadata": {},
     "outputs": [],
     "prompt_number": 116
    }],
   "metadata": {}
  }
 ]
}