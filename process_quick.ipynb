"import pandas as pd\n",
"import json\n",
"%pylab inline"
"df = pd.read_csv(\"data/relocator/rent_by_city-cleaned.csv\", encoding=\"iso-8859-1\")\n",
"df.head()"
"df1 = df[df.columns[:4]]\n",
"df2 = df[df.columns[4:]]\n",
"df2.head()"
"j = df2.T.to_json(\"rents.json\")"